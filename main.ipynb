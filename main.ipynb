{
 "metadata": {
  "language_info": {
   "codemirror_mode": {
    "name": "ipython",
    "version": 3
   },
   "file_extension": ".py",
   "mimetype": "text/x-python",
   "name": "python",
   "nbconvert_exporter": "python",
   "pygments_lexer": "ipython3",
   "version": "3.7.6-final"
  },
  "orig_nbformat": 2,
  "kernelspec": {
   "name": "python3",
   "display_name": "Python 3"
  }
 },
 "nbformat": 4,
 "nbformat_minor": 2,
 "cells": [
  {
   "cell_type": "code",
   "execution_count": 4,
   "metadata": {},
   "outputs": [],
   "source": [
    "import json\n",
    "import requests\n",
    "import os\n",
    "import spotipy\n",
    "from spotipy.oauth2 import SpotifyOAuth\n",
    "import pandas as pd\n",
    "import re\n"
   ]
  },
  {
   "cell_type": "code",
   "execution_count": 5,
   "metadata": {},
   "outputs": [],
   "source": [
    "spotify_client = os.environ.get('SPOTIFY_CLIENT')\n",
    "spotify_secret = os.environ.get('SPOTIFY_SECRET')\n",
    "\n",
    "sp = spotipy.Spotify(auth_manager=SpotifyOAuth(client_id=spotify_client,  \n",
    "                                               client_secret=spotify_secret,\n",
    "                                               redirect_uri='http://localhost:8888/callback/',\n",
    "                                               scope='user-read-currently-playing'))\n"
   ]
  },
  {
   "cell_type": "code",
   "execution_count": 17,
   "metadata": {},
   "outputs": [
    {
     "output_type": "stream",
     "name": "stdout",
     "text": [
      "{'timestamp': 1605290516458, 'context': {'external_urls': {'spotify': 'https://open.spotify.com/playlist/7tPSBvTBEh7qJ4X192u9uP'}, 'href': 'https://api.spotify.com/v1/playlists/7tPSBvTBEh7qJ4X192u9uP', 'type': 'playlist', 'uri': 'spotify:user:dxzag7le43qidxq3x1j6ggows:playlist:7tPSBvTBEh7qJ4X192u9uP'}, 'progress_ms': 9692, 'item': {'album': {'album_type': 'single', 'artists': [{'external_urls': {'spotify': 'https://open.spotify.com/artist/7wSr4otUV4ytUvHE4w3rBe'}, 'href': 'https://api.spotify.com/v1/artists/7wSr4otUV4ytUvHE4w3rBe', 'id': '7wSr4otUV4ytUvHE4w3rBe', 'name': 'Hovey Benjamin', 'type': 'artist', 'uri': 'spotify:artist:7wSr4otUV4ytUvHE4w3rBe'}], 'external_urls': {'spotify': 'https://open.spotify.com/album/2IxLA2DWXN3WnSgoBpZiDX'}, 'href': 'https://api.spotify.com/v1/albums/2IxLA2DWXN3WnSgoBpZiDX', 'id': '2IxLA2DWXN3WnSgoBpZiDX', 'images': [{'height': 640, 'url': 'https://i.scdn.co/image/ab67616d0000b2730cc011894c226a095cd2f47b', 'width': 640}, {'height': 300, 'url': 'https://i.scdn.co/image/ab67616d00001e020cc011894c226a095cd2f47b', 'width': 300}, {'height': 64, 'url': 'https://i.scdn.co/image/ab67616d000048510cc011894c226a095cd2f47b', 'width': 64}], 'name': 'Never Too Much', 'release_date': '2020-01-13', 'release_date_precision': 'day', 'total_tracks': 1, 'type': 'album', 'uri': 'spotify:album:2IxLA2DWXN3WnSgoBpZiDX'}, 'artists': [{'external_urls': {'spotify': 'https://open.spotify.com/artist/7wSr4otUV4ytUvHE4w3rBe'}, 'href': 'https://api.spotify.com/v1/artists/7wSr4otUV4ytUvHE4w3rBe', 'id': '7wSr4otUV4ytUvHE4w3rBe', 'name': 'Hovey Benjamin', 'type': 'artist', 'uri': 'spotify:artist:7wSr4otUV4ytUvHE4w3rBe'}], 'available_markets': [], 'disc_number': 1, 'duration_ms': 185726, 'explicit': True, 'external_ids': {'isrc': 'QZK6Q1991146'}, 'external_urls': {'spotify': 'https://open.spotify.com/track/0m9QNpZ4XVqkwjhPDXAtmP'}, 'href': 'https://api.spotify.com/v1/tracks/0m9QNpZ4XVqkwjhPDXAtmP', 'id': '0m9QNpZ4XVqkwjhPDXAtmP', 'is_local': False, 'is_playable': True, 'name': 'Never Too Much', 'popularity': 32, 'preview_url': 'https://p.scdn.co/mp3-preview/7b998c9060b3bae611b0e40c2f44a3cf0b1e0edf?cid=be16f1136dc048d29e19cface3ee0cd4', 'track_number': 1, 'type': 'track', 'uri': 'spotify:track:0m9QNpZ4XVqkwjhPDXAtmP'}, 'currently_playing_type': 'track', 'actions': {'disallows': {'resuming': True}}, 'is_playing': True}\n"
     ]
    }
   ],
   "source": [
    "current_song = sp.currently_playing(market='FR', additional_types='track')\n",
    "\n",
    "print(current_song)"
   ]
  },
  {
   "cell_type": "code",
   "execution_count": 18,
   "metadata": {},
   "outputs": [
    {
     "output_type": "execute_result",
     "data": {
      "text/plain": [
       "       timestamp  progress_ms currently_playing_type  is_playing  \\\n",
       "0  1605290516458         9692                  track        True   \n",
       "\n",
       "                       context.external_urls.spotify  \\\n",
       "0  https://open.spotify.com/playlist/7tPSBvTBEh7q...   \n",
       "\n",
       "                                        context.href context.type  \\\n",
       "0  https://api.spotify.com/v1/playlists/7tPSBvTBE...     playlist   \n",
       "\n",
       "                                         context.uri item.album.album_type  \\\n",
       "0  spotify:user:dxzag7le43qidxq3x1j6ggows:playlis...                single   \n",
       "\n",
       "                                  item.album.artists  ...  \\\n",
       "0  [{'external_urls': {'spotify': 'https://open.s...  ...   \n",
       "\n",
       "                  item.id item.is_local item.is_playable       item.name  \\\n",
       "0  0m9QNpZ4XVqkwjhPDXAtmP         False             True  Never Too Much   \n",
       "\n",
       "  item.popularity                                   item.preview_url  \\\n",
       "0              32  https://p.scdn.co/mp3-preview/7b998c9060b3bae6...   \n",
       "\n",
       "  item.track_number  item.type                              item.uri  \\\n",
       "0                 1      track  spotify:track:0m9QNpZ4XVqkwjhPDXAtmP   \n",
       "\n",
       "  actions.disallows.resuming  \n",
       "0                       True  \n",
       "\n",
       "[1 rows x 38 columns]"
      ],
      "text/html": "<div>\n<style scoped>\n    .dataframe tbody tr th:only-of-type {\n        vertical-align: middle;\n    }\n\n    .dataframe tbody tr th {\n        vertical-align: top;\n    }\n\n    .dataframe thead th {\n        text-align: right;\n    }\n</style>\n<table border=\"1\" class=\"dataframe\">\n  <thead>\n    <tr style=\"text-align: right;\">\n      <th></th>\n      <th>timestamp</th>\n      <th>progress_ms</th>\n      <th>currently_playing_type</th>\n      <th>is_playing</th>\n      <th>context.external_urls.spotify</th>\n      <th>context.href</th>\n      <th>context.type</th>\n      <th>context.uri</th>\n      <th>item.album.album_type</th>\n      <th>item.album.artists</th>\n      <th>...</th>\n      <th>item.id</th>\n      <th>item.is_local</th>\n      <th>item.is_playable</th>\n      <th>item.name</th>\n      <th>item.popularity</th>\n      <th>item.preview_url</th>\n      <th>item.track_number</th>\n      <th>item.type</th>\n      <th>item.uri</th>\n      <th>actions.disallows.resuming</th>\n    </tr>\n  </thead>\n  <tbody>\n    <tr>\n      <th>0</th>\n      <td>1605290516458</td>\n      <td>9692</td>\n      <td>track</td>\n      <td>True</td>\n      <td>https://open.spotify.com/playlist/7tPSBvTBEh7q...</td>\n      <td>https://api.spotify.com/v1/playlists/7tPSBvTBE...</td>\n      <td>playlist</td>\n      <td>spotify:user:dxzag7le43qidxq3x1j6ggows:playlis...</td>\n      <td>single</td>\n      <td>[{'external_urls': {'spotify': 'https://open.s...</td>\n      <td>...</td>\n      <td>0m9QNpZ4XVqkwjhPDXAtmP</td>\n      <td>False</td>\n      <td>True</td>\n      <td>Never Too Much</td>\n      <td>32</td>\n      <td>https://p.scdn.co/mp3-preview/7b998c9060b3bae6...</td>\n      <td>1</td>\n      <td>track</td>\n      <td>spotify:track:0m9QNpZ4XVqkwjhPDXAtmP</td>\n      <td>True</td>\n    </tr>\n  </tbody>\n</table>\n<p>1 rows × 38 columns</p>\n</div>"
     },
     "metadata": {},
     "execution_count": 18
    }
   ],
   "source": [
    "flat_df = pd.io.json.json_normalize(current_song)\n",
    "flat_df"
   ]
  },
  {
   "cell_type": "code",
   "execution_count": 19,
   "metadata": {},
   "outputs": [
    {
     "output_type": "execute_result",
     "data": {
      "text/plain": [
       "'7tPSBvTBEh7qJ4X192u9uP'"
      ]
     },
     "metadata": {},
     "execution_count": 19
    }
   ],
   "source": [
    "playlist = re.split('/', flat_df['context.href'][0])[5]\n",
    "track_name = flat_df['item.name'][0]\n",
    "track_artist = flat_df['item.artists'][0][0]['name']\n",
    "\n",
    "#flat_df.columns\n",
    "#track_name\n",
    "playlist\n",
    "#track_artist\n",
    "#flat_df['context.href'][0]\n"
   ]
  },
  {
   "cell_type": "code",
   "execution_count": 37,
   "metadata": {},
   "outputs": [
    {
     "output_type": "stream",
     "name": "stdout",
     "text": [
      "Searching for \"Are You Bored Yet? (feat. Clairo)\" by Wallows...\n",
      "Done.\n"
     ]
    }
   ],
   "source": [
    "import lyricsgenius\n",
    "\n",
    "genius = lyricsgenius.Genius(os.environ.get('GENIUS_TOKEN'))\n",
    "song = genius.search_song(track_name, track_artist, get_full_info=False)"
   ]
  },
  {
   "cell_type": "code",
   "execution_count": 38,
   "metadata": {},
   "outputs": [
    {
     "output_type": "stream",
     "name": "stdout",
     "text": [
      "[Verse 1: Dylan Minnette with \nClairo\n]\nWhat's wrong?\nYou've been asking but I don't have an answer\nHow come?\nI'm still thinking, let's pretend to fall asleep now\nWhen we get old, will we regret this?\nToo young to think about all that shit\nAnd stalling only goes so far when you've got a head start\n\n[Chorus: Dylan Minnette with \nClairo\n]\n'Cause we could stay at home and \nwatch the sunset\nBut I can't help from asking, \n\"Are you bored yet?\"\nAnd if you're feeling lonely \nyou should tell me\nBefore this ends up as \nanother memory\nWill you tell the truth so I don't have to lie?\nWill you tell the truth so I don't have to lie?\n\n[Verse 2: Clairo]\nFeels like I've known you my whole life\nI can see right through your lies\nI don't know where we're going\nBut I'd like to be by your side\nIf you could tell me how you're feeling\nMaybe we'd get through this undefeated\nHolding on for so long\n\n[Chorus: Dylan Minnette with \nClairo\n]\n'Cause we could stay at home and \nwatch the sunset\nBut I can't help from asking, \n\"Are you bored yet?\"\nAnd if you're feeling lonely \nyou should tell me\nBefore this ends up as \nanother memory\nWill you tell the truth so I don't have to lie?\nWill you tell the truth so I don't have to lie?\n"
     ]
    }
   ],
   "source": [
    "print(song.lyrics)"
   ]
  },
  {
   "cell_type": "code",
   "execution_count": 3,
   "metadata": {},
   "outputs": [],
   "source": [
    "from twilio.rest import Client \n",
    "\n",
    "account_sid = os.environ.get('TWILIO_ACCOUNT')\n",
    "auth_token = os.environ.get('TWILIO_TOKEN') \n",
    "client = Client(account_sid, auth_token) \n",
    "\n",
    "message = client.messages.create(\n",
    "                    from_= 'whatsapp:+14155238886', #TWILIO's WhatsApp number \n",
    "                    body= 'Hello!',      \n",
    "                    to= 'whatsapp:' + os.environ.get('SARAH_NUMBER'))"
   ]
  },
  {
   "cell_type": "code",
   "execution_count": null,
   "metadata": {},
   "outputs": [],
   "source": []
  }
 ]
}