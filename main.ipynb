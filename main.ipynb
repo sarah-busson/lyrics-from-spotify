{
 "metadata": {
  "language_info": {
   "codemirror_mode": {
    "name": "ipython",
    "version": 3
   },
   "file_extension": ".py",
   "mimetype": "text/x-python",
   "name": "python",
   "nbconvert_exporter": "python",
   "pygments_lexer": "ipython3",
   "version": "3.7.6-final"
  },
  "orig_nbformat": 2,
  "kernelspec": {
   "name": "python3",
   "display_name": "Python 3"
  }
 },
 "nbformat": 4,
 "nbformat_minor": 2,
 "cells": [
  {
   "cell_type": "code",
   "execution_count": 9,
   "metadata": {},
   "outputs": [],
   "source": [
    "import json\n",
    "import requests\n",
    "import os\n",
    "import spotipy\n",
    "from spotipy.oauth2 import SpotifyOAuth\n",
    "import pandas as pd\n",
    "import re\n"
   ]
  },
  {
   "cell_type": "code",
   "execution_count": 2,
   "metadata": {},
   "outputs": [],
   "source": [
    "spotify_client = os.environ.get('SPOTIFY_CLIENT')\n",
    "spotify_secret = os.environ.get('SPOTIFY_SECRET')\n",
    "\n",
    "sp = spotipy.Spotify(auth_manager=SpotifyOAuth(client_id=spotify_client,  \n",
    "                                               client_secret=spotify_secret,\n",
    "                                               redirect_uri='http://localhost:8888/callback/',\n",
    "                                               scope='user-read-currently-playing'))\n"
   ]
  },
  {
   "cell_type": "code",
   "execution_count": 3,
   "metadata": {},
   "outputs": [
    {
     "output_type": "stream",
     "name": "stdout",
     "text": [
      "{'timestamp': 1605021520487, 'context': {'external_urls': {'spotify': 'https://open.spotify.com/playlist/2hd4estp6il1q391dhVTSA'}, 'href': 'https://api.spotify.com/v1/playlists/2hd4estp6il1q391dhVTSA', 'type': 'playlist', 'uri': 'spotify:playlist:2hd4estp6il1q391dhVTSA'}, 'progress_ms': 106949, 'item': {'album': {'album_type': 'single', 'artists': [{'external_urls': {'spotify': 'https://open.spotify.com/artist/360IAlyVv4PCEVjgyMZrxK'}, 'href': 'https://api.spotify.com/v1/artists/360IAlyVv4PCEVjgyMZrxK', 'id': '360IAlyVv4PCEVjgyMZrxK', 'name': 'Miguel', 'type': 'artist', 'uri': 'spotify:artist:360IAlyVv4PCEVjgyMZrxK'}], 'external_urls': {'spotify': 'https://open.spotify.com/album/4sJXyIfwduIWFISb4iCq2f'}, 'href': 'https://api.spotify.com/v1/albums/4sJXyIfwduIWFISb4iCq2f', 'id': '4sJXyIfwduIWFISb4iCq2f', 'images': [{'height': 640, 'url': 'https://i.scdn.co/image/ab67616d0000b273c4daf0fda7e16ba5b0f86830', 'width': 640}, {'height': 300, 'url': 'https://i.scdn.co/image/ab67616d00001e02c4daf0fda7e16ba5b0f86830', 'width': 300}, {'height': 64, 'url': 'https://i.scdn.co/image/ab67616d00004851c4daf0fda7e16ba5b0f86830', 'width': 64}], 'name': 'Rogue Waves', 'release_date': '2016-02-26', 'release_date_precision': 'day', 'total_tracks': 5, 'type': 'album', 'uri': 'spotify:album:4sJXyIfwduIWFISb4iCq2f'}, 'artists': [{'external_urls': {'spotify': 'https://open.spotify.com/artist/360IAlyVv4PCEVjgyMZrxK'}, 'href': 'https://api.spotify.com/v1/artists/360IAlyVv4PCEVjgyMZrxK', 'id': '360IAlyVv4PCEVjgyMZrxK', 'name': 'Miguel', 'type': 'artist', 'uri': 'spotify:artist:360IAlyVv4PCEVjgyMZrxK'}, {'external_urls': {'spotify': 'https://open.spotify.com/artist/5INjqkS1o8h1imAzPqGZBb'}, 'href': 'https://api.spotify.com/v1/artists/5INjqkS1o8h1imAzPqGZBb', 'id': '5INjqkS1o8h1imAzPqGZBb', 'name': 'Tame Impala', 'type': 'artist', 'uri': 'spotify:artist:5INjqkS1o8h1imAzPqGZBb'}], 'available_markets': [], 'disc_number': 1, 'duration_ms': 253346, 'explicit': False, 'external_ids': {'isrc': 'USRC11600326'}, 'external_urls': {'spotify': 'https://open.spotify.com/track/3lB0GMiI5KxDbTOG8V3bOx'}, 'href': 'https://api.spotify.com/v1/tracks/3lB0GMiI5KxDbTOG8V3bOx', 'id': '3lB0GMiI5KxDbTOG8V3bOx', 'is_local': False, 'is_playable': True, 'name': 'waves - Tame Impala Remix', 'popularity': 68, 'preview_url': 'https://p.scdn.co/mp3-preview/ae9a6446d61c4bd30a7993a8c0e9836c9f3a4aa3?cid=be16f1136dc048d29e19cface3ee0cd4', 'track_number': 1, 'type': 'track', 'uri': 'spotify:track:3lB0GMiI5KxDbTOG8V3bOx'}, 'currently_playing_type': 'track', 'actions': {'disallows': {'resuming': True}}, 'is_playing': True}\n"
     ]
    }
   ],
   "source": [
    "current_song = sp.currently_playing(market='FR', additional_types='track')\n",
    "\n",
    "print(current_song)"
   ]
  },
  {
   "cell_type": "code",
   "execution_count": 29,
   "metadata": {},
   "outputs": [
    {
     "output_type": "execute_result",
     "data": {
      "text/plain": [
       "       timestamp  progress_ms currently_playing_type  is_playing  \\\n",
       "0  1605021520487       106949                  track        True   \n",
       "\n",
       "                       context.external_urls.spotify  \\\n",
       "0  https://open.spotify.com/playlist/2hd4estp6il1...   \n",
       "\n",
       "                                        context.href context.type  \\\n",
       "0  https://api.spotify.com/v1/playlists/2hd4estp6...     playlist   \n",
       "\n",
       "                               context.uri item.album.album_type  \\\n",
       "0  spotify:playlist:2hd4estp6il1q391dhVTSA                single   \n",
       "\n",
       "                                  item.album.artists  ...  \\\n",
       "0  [{'external_urls': {'spotify': 'https://open.s...  ...   \n",
       "\n",
       "                  item.id item.is_local item.is_playable  \\\n",
       "0  3lB0GMiI5KxDbTOG8V3bOx         False             True   \n",
       "\n",
       "                   item.name item.popularity  \\\n",
       "0  waves - Tame Impala Remix              68   \n",
       "\n",
       "                                    item.preview_url item.track_number  \\\n",
       "0  https://p.scdn.co/mp3-preview/ae9a6446d61c4bd3...                 1   \n",
       "\n",
       "   item.type                              item.uri actions.disallows.resuming  \n",
       "0      track  spotify:track:3lB0GMiI5KxDbTOG8V3bOx                       True  \n",
       "\n",
       "[1 rows x 38 columns]"
      ],
      "text/html": "<div>\n<style scoped>\n    .dataframe tbody tr th:only-of-type {\n        vertical-align: middle;\n    }\n\n    .dataframe tbody tr th {\n        vertical-align: top;\n    }\n\n    .dataframe thead th {\n        text-align: right;\n    }\n</style>\n<table border=\"1\" class=\"dataframe\">\n  <thead>\n    <tr style=\"text-align: right;\">\n      <th></th>\n      <th>timestamp</th>\n      <th>progress_ms</th>\n      <th>currently_playing_type</th>\n      <th>is_playing</th>\n      <th>context.external_urls.spotify</th>\n      <th>context.href</th>\n      <th>context.type</th>\n      <th>context.uri</th>\n      <th>item.album.album_type</th>\n      <th>item.album.artists</th>\n      <th>...</th>\n      <th>item.id</th>\n      <th>item.is_local</th>\n      <th>item.is_playable</th>\n      <th>item.name</th>\n      <th>item.popularity</th>\n      <th>item.preview_url</th>\n      <th>item.track_number</th>\n      <th>item.type</th>\n      <th>item.uri</th>\n      <th>actions.disallows.resuming</th>\n    </tr>\n  </thead>\n  <tbody>\n    <tr>\n      <th>0</th>\n      <td>1605021520487</td>\n      <td>106949</td>\n      <td>track</td>\n      <td>True</td>\n      <td>https://open.spotify.com/playlist/2hd4estp6il1...</td>\n      <td>https://api.spotify.com/v1/playlists/2hd4estp6...</td>\n      <td>playlist</td>\n      <td>spotify:playlist:2hd4estp6il1q391dhVTSA</td>\n      <td>single</td>\n      <td>[{'external_urls': {'spotify': 'https://open.s...</td>\n      <td>...</td>\n      <td>3lB0GMiI5KxDbTOG8V3bOx</td>\n      <td>False</td>\n      <td>True</td>\n      <td>waves - Tame Impala Remix</td>\n      <td>68</td>\n      <td>https://p.scdn.co/mp3-preview/ae9a6446d61c4bd3...</td>\n      <td>1</td>\n      <td>track</td>\n      <td>spotify:track:3lB0GMiI5KxDbTOG8V3bOx</td>\n      <td>True</td>\n    </tr>\n  </tbody>\n</table>\n<p>1 rows × 38 columns</p>\n</div>"
     },
     "metadata": {},
     "execution_count": 29
    }
   ],
   "source": [
    "flat_df = pd.io.json.json_normalize(current_song)\n",
    "flat_df"
   ]
  },
  {
   "cell_type": "code",
   "execution_count": 43,
   "metadata": {},
   "outputs": [
    {
     "output_type": "execute_result",
     "data": {
      "text/plain": [
       "'Miguel'"
      ]
     },
     "metadata": {},
     "execution_count": 43
    }
   ],
   "source": [
    "playlist = re.split(':', flat_df['context.uri'][0])[2]\n",
    "track_name = flat_df['item.name'][0]\n",
    "track_artist = flat_df['item.artists'][0][0]['name']\n",
    "\n",
    "#flat_df.columns\n",
    "#track_name\n",
    "#playlist\n",
    "track_artist"
   ]
  },
  {
   "cell_type": "code",
   "execution_count": null,
   "metadata": {},
   "outputs": [],
   "source": []
  }
 ]
}