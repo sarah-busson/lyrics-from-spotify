{
 "metadata": {
  "language_info": {
   "codemirror_mode": {
    "name": "ipython",
    "version": 3
   },
   "file_extension": ".py",
   "mimetype": "text/x-python",
   "name": "python",
   "nbconvert_exporter": "python",
   "pygments_lexer": "ipython3",
   "version": "3.7.6-final"
  },
  "orig_nbformat": 2,
  "kernelspec": {
   "name": "python3",
   "display_name": "Python 3"
  }
 },
 "nbformat": 4,
 "nbformat_minor": 2,
 "cells": [
  {
   "cell_type": "code",
   "execution_count": 6,
   "metadata": {},
   "outputs": [],
   "source": [
    "import json\n",
    "import requests\n",
    "import os\n",
    "import spotipy\n",
    "from spotipy.oauth2 import SpotifyOAuth\n",
    "import pandas as pd\n",
    "import re\n"
   ]
  },
  {
   "cell_type": "code",
   "execution_count": 7,
   "metadata": {},
   "outputs": [],
   "source": [
    "spotify_client = os.environ.get('SPOTIFY_CLIENT')\n",
    "spotify_secret = os.environ.get('SPOTIFY_SECRET')\n",
    "\n",
    "sp = spotipy.Spotify(auth_manager=SpotifyOAuth(client_id=spotify_client,  \n",
    "                                               client_secret=spotify_secret,\n",
    "                                               redirect_uri='http://localhost:8888/callback/',\n",
    "                                               scope='user-read-currently-playing'))\n"
   ]
  },
  {
   "cell_type": "code",
   "execution_count": 11,
   "metadata": {},
   "outputs": [
    {
     "output_type": "stream",
     "name": "stdout",
     "text": [
      "{'timestamp': 1605301855754, 'context': {'external_urls': {'spotify': 'https://open.spotify.com/playlist/7tPSBvTBEh7qJ4X192u9uP'}, 'href': 'https://api.spotify.com/v1/playlists/7tPSBvTBEh7qJ4X192u9uP', 'type': 'playlist', 'uri': 'spotify:user:dxzag7le43qidxq3x1j6ggows:playlist:7tPSBvTBEh7qJ4X192u9uP'}, 'progress_ms': 127458, 'item': {'album': {'album_type': 'album', 'artists': [{'external_urls': {'spotify': 'https://open.spotify.com/artist/3QVolfxko2UyCOtexhVTli'}, 'href': 'https://api.spotify.com/v1/artists/3QVolfxko2UyCOtexhVTli', 'id': '3QVolfxko2UyCOtexhVTli', 'name': 'Angèle', 'type': 'artist', 'uri': 'spotify:artist:3QVolfxko2UyCOtexhVTli'}], 'external_urls': {'spotify': 'https://open.spotify.com/album/6KSvWFf4g4PrIldtchJsTC'}, 'href': 'https://api.spotify.com/v1/albums/6KSvWFf4g4PrIldtchJsTC', 'id': '6KSvWFf4g4PrIldtchJsTC', 'images': [{'height': 640, 'url': 'https://i.scdn.co/image/ab67616d0000b2732433cb43f0f2f0f23b7c8b82', 'width': 640}, {'height': 300, 'url': 'https://i.scdn.co/image/ab67616d00001e022433cb43f0f2f0f23b7c8b82', 'width': 300}, {'height': 64, 'url': 'https://i.scdn.co/image/ab67616d000048512433cb43f0f2f0f23b7c8b82', 'width': 64}], 'name': 'Brol', 'release_date': '2018-10-05', 'release_date_precision': 'day', 'total_tracks': 12, 'type': 'album', 'uri': 'spotify:album:6KSvWFf4g4PrIldtchJsTC'}, 'artists': [{'external_urls': {'spotify': 'https://open.spotify.com/artist/3QVolfxko2UyCOtexhVTli'}, 'href': 'https://api.spotify.com/v1/artists/3QVolfxko2UyCOtexhVTli', 'id': '3QVolfxko2UyCOtexhVTli', 'name': 'Angèle', 'type': 'artist', 'uri': 'spotify:artist:3QVolfxko2UyCOtexhVTli'}], 'available_markets': [], 'disc_number': 1, 'duration_ms': 189480, 'explicit': False, 'external_ids': {'isrc': 'BE8HB1800006'}, 'external_urls': {'spotify': 'https://open.spotify.com/track/2jX5c5RFp0A9E1GDsvGxIa'}, 'href': 'https://api.spotify.com/v1/tracks/2jX5c5RFp0A9E1GDsvGxIa', 'id': '2jX5c5RFp0A9E1GDsvGxIa', 'is_local': False, 'is_playable': True, 'name': 'Balance ton quoi', 'popularity': 69, 'preview_url': 'https://p.scdn.co/mp3-preview/52b175e3adbddae06ccca05c8faeff49846862b0?cid=be16f1136dc048d29e19cface3ee0cd4', 'track_number': 2, 'type': 'track', 'uri': 'spotify:track:2jX5c5RFp0A9E1GDsvGxIa'}, 'currently_playing_type': 'track', 'actions': {'disallows': {'resuming': True}}, 'is_playing': True}\n"
     ]
    }
   ],
   "source": [
    "current_song = sp.currently_playing(market='FR', additional_types='track')\n",
    "\n",
    "print(current_song)"
   ]
  },
  {
   "cell_type": "code",
   "execution_count": 12,
   "metadata": {},
   "outputs": [
    {
     "output_type": "execute_result",
     "data": {
      "text/plain": [
       "       timestamp  progress_ms currently_playing_type  is_playing  \\\n",
       "0  1605301855754       127458                  track        True   \n",
       "\n",
       "                       context.external_urls.spotify  \\\n",
       "0  https://open.spotify.com/playlist/7tPSBvTBEh7q...   \n",
       "\n",
       "                                        context.href context.type  \\\n",
       "0  https://api.spotify.com/v1/playlists/7tPSBvTBE...     playlist   \n",
       "\n",
       "                                         context.uri item.album.album_type  \\\n",
       "0  spotify:user:dxzag7le43qidxq3x1j6ggows:playlis...                 album   \n",
       "\n",
       "                                  item.album.artists  ...  \\\n",
       "0  [{'external_urls': {'spotify': 'https://open.s...  ...   \n",
       "\n",
       "                  item.id item.is_local item.is_playable         item.name  \\\n",
       "0  2jX5c5RFp0A9E1GDsvGxIa         False             True  Balance ton quoi   \n",
       "\n",
       "  item.popularity                                   item.preview_url  \\\n",
       "0              69  https://p.scdn.co/mp3-preview/52b175e3adbddae0...   \n",
       "\n",
       "  item.track_number  item.type                              item.uri  \\\n",
       "0                 2      track  spotify:track:2jX5c5RFp0A9E1GDsvGxIa   \n",
       "\n",
       "  actions.disallows.resuming  \n",
       "0                       True  \n",
       "\n",
       "[1 rows x 38 columns]"
      ],
      "text/html": "<div>\n<style scoped>\n    .dataframe tbody tr th:only-of-type {\n        vertical-align: middle;\n    }\n\n    .dataframe tbody tr th {\n        vertical-align: top;\n    }\n\n    .dataframe thead th {\n        text-align: right;\n    }\n</style>\n<table border=\"1\" class=\"dataframe\">\n  <thead>\n    <tr style=\"text-align: right;\">\n      <th></th>\n      <th>timestamp</th>\n      <th>progress_ms</th>\n      <th>currently_playing_type</th>\n      <th>is_playing</th>\n      <th>context.external_urls.spotify</th>\n      <th>context.href</th>\n      <th>context.type</th>\n      <th>context.uri</th>\n      <th>item.album.album_type</th>\n      <th>item.album.artists</th>\n      <th>...</th>\n      <th>item.id</th>\n      <th>item.is_local</th>\n      <th>item.is_playable</th>\n      <th>item.name</th>\n      <th>item.popularity</th>\n      <th>item.preview_url</th>\n      <th>item.track_number</th>\n      <th>item.type</th>\n      <th>item.uri</th>\n      <th>actions.disallows.resuming</th>\n    </tr>\n  </thead>\n  <tbody>\n    <tr>\n      <th>0</th>\n      <td>1605301855754</td>\n      <td>127458</td>\n      <td>track</td>\n      <td>True</td>\n      <td>https://open.spotify.com/playlist/7tPSBvTBEh7q...</td>\n      <td>https://api.spotify.com/v1/playlists/7tPSBvTBE...</td>\n      <td>playlist</td>\n      <td>spotify:user:dxzag7le43qidxq3x1j6ggows:playlis...</td>\n      <td>album</td>\n      <td>[{'external_urls': {'spotify': 'https://open.s...</td>\n      <td>...</td>\n      <td>2jX5c5RFp0A9E1GDsvGxIa</td>\n      <td>False</td>\n      <td>True</td>\n      <td>Balance ton quoi</td>\n      <td>69</td>\n      <td>https://p.scdn.co/mp3-preview/52b175e3adbddae0...</td>\n      <td>2</td>\n      <td>track</td>\n      <td>spotify:track:2jX5c5RFp0A9E1GDsvGxIa</td>\n      <td>True</td>\n    </tr>\n  </tbody>\n</table>\n<p>1 rows × 38 columns</p>\n</div>"
     },
     "metadata": {},
     "execution_count": 12
    }
   ],
   "source": [
    "flat_df = pd.io.json.json_normalize(current_song)\n",
    "flat_df"
   ]
  },
  {
   "cell_type": "code",
   "execution_count": 13,
   "metadata": {},
   "outputs": [
    {
     "output_type": "execute_result",
     "data": {
      "text/plain": [
       "'7tPSBvTBEh7qJ4X192u9uP'"
      ]
     },
     "metadata": {},
     "execution_count": 13
    }
   ],
   "source": [
    "playlist = re.split('/', flat_df['context.href'][0])[5]\n",
    "track_name = flat_df['item.name'][0]\n",
    "track_artist = flat_df['item.artists'][0][0]['name']\n",
    "\n",
    "#flat_df.columns\n",
    "#track_name\n",
    "playlist\n",
    "#track_artist\n",
    "#flat_df['context.href'][0]\n"
   ]
  },
  {
   "cell_type": "code",
   "execution_count": 14,
   "metadata": {},
   "outputs": [
    {
     "output_type": "stream",
     "name": "stdout",
     "text": [
      "Searching for \"Balance ton quoi\" by Angèle...\n",
      "Done.\n"
     ]
    }
   ],
   "source": [
    "import lyricsgenius\n",
    "\n",
    "genius = lyricsgenius.Genius(os.environ.get('GENIUS_TOKEN'))\n",
    "song = genius.search_song(track_name, track_artist, get_full_info=False)"
   ]
  },
  {
   "cell_type": "code",
   "execution_count": 15,
   "metadata": {},
   "outputs": [
    {
     "output_type": "stream",
     "name": "stdout",
     "text": [
      "[Paroles de \"Balance ton quoi\"]\n\n[Couplet 1]\nIls parlent tous comme des animaux, de toutes les chattes ça parle mal\n2018, j'sais pas c'qui t'faut mais je suis plus qu'un animal\nJ'ai vu qu'le rap est à la mode et qu'il marche mieux quand il est sale\nBah faudrait p't'être casser les codes, une fille qui l'ouvre, ça s'rait normal\n\n[Pré-refrain]\nBalance ton quoi\nMême si tu parles mal des filles, je sais qu'au fond, t'as compris\nBalance ton quoi\nUn jour peut-être ça changera, balance ton quoi\n\n[Refrain 1]\nDonc laisse-moi te chanter\nD'aller te faire en-, hmm, hmm-hmm, hmm\nOuais, j'passerai pas à la radio\nParce que mes mots sont pas très beaux\n\n[Couplet 2]\nLes gens me disent à demi-mot :\n\"\nPour une fille belle t'es pas si bête\nPour une fille drôle, t'es pas si laide\nTes parents et ton frère, ça aide\"\nOh, tu parles de moi ? C'est quoi ton problème ?\nJ'ai écrit rien qu'pour toi le plus beau des poèmes\n\n[Refrain 2]\nLaisse-moi te chanter\nD'aller te faire en-, hmm, hmm-hmm, hmm\nOuais, j's'rai polie pour la télé\nMais va te faire en-, hmm, hmm-hmm, hmm\nBalance ton quoi\nBalance ton quoi\nBalance ton quoi\n\n[Pont]\nUn jour, peut-être, ça changera\nY'a plus d'respect dans la rue, tu sais très bien quand t'abuses\nBalance ton quoi\nBalance ton quoi\n\n[Refrain 3]\nLaisse-moi te chanter\nD'aller te faire en-, hmm, hmm-hmm, hmm\nOuais, j'passerai pas à la radio\nParce que mes mots sont pas très beaux\nLaisse-moi te chanter\nD'aller te faire en-, hmm, hmm-hmm, hmm\nOuais, j's'rai polie pour la télé\nMais va te faire en-, hmm, hmm-hmm, hmm\nBalance ton quoi\nBalance ton quoi\nBalance ton quoi\n\n[Outro]\nMême si tu parles mal des filles\nJe sais qu'au fond t'as compris\nBalance ton quoi\nUn jour peut-être ça changera\nBalance ton quoi\n"
     ]
    }
   ],
   "source": [
    "print(song.lyrics)"
   ]
  },
  {
   "cell_type": "code",
   "execution_count": 3,
   "metadata": {},
   "outputs": [],
   "source": [
    "from twilio.rest import Client \n",
    "\n",
    "account_sid = os.environ.get('TWILIO_ACCOUNT')\n",
    "auth_token = os.environ.get('TWILIO_TOKEN') \n",
    "client = Client(account_sid, auth_token) \n",
    "\n",
    "message = client.messages.create(\n",
    "                    from_= 'whatsapp:+14155238886', #TWILIO's WhatsApp number \n",
    "                    body= 'Hello!',      \n",
    "                    to= 'whatsapp:' + os.environ.get('SARAH_NUMBER'))"
   ]
  },
  {
   "cell_type": "code",
   "execution_count": 2,
   "metadata": {},
   "outputs": [
    {
     "output_type": "execute_result",
     "data": {
      "text/plain": [
       "'b'"
      ]
     },
     "metadata": {},
     "execution_count": 2
    }
   ],
   "source": [
    "def triple(a, b, c):\n",
    "    return a, b, c\n",
    "\n",
    "triple('a', 'b', 'c')[1]"
   ]
  },
  {
   "cell_type": "code",
   "execution_count": 29,
   "metadata": {},
   "outputs": [
    {
     "output_type": "stream",
     "name": "stdout",
     "text": [
      "\n\nIls parlent tous comme des animaux, de toutes les chattes ça parle mal\n2018, j'sais pas c'qui t'faut mais je suis plus qu'un animal\nJ'ai vu qu'le rap est à la mode et qu'il marche mieux quand il est sale\nBah faudrait p't'être casser les codes, une fille qui l'ouvre, ça s'rait normal\n\nBalance ton quoi\nMême si tu parles mal des filles, je sais qu'au fond, t'as compris\nBalance ton quoi\nUn jour peut-être ça changera, balance ton quoi\n\nDonc laisse-moi te chanter\nD'aller te faire en-, hmm, hmm-hmm, hmm\nOuais, j'passerai pas à la radio\nParce que mes mots sont pas très beaux\n\nLes gens me disent à demi-mot :\n\"\nPour une fille belle t'es pas si bête\nPour une fille drôle, t'es pas si laide\nTes parents et ton frère, ça aide\"\nOh, tu parles de moi ? C'est quoi ton problème ?\nJ'ai écrit rien qu'pour toi le plus beau des poèmes\n\nLaisse-moi te chanter\nD'aller te faire en-, hmm, hmm-hmm, hmm\nOuais, j's'rai polie pour la télé\nMais va te faire en-, hmm, hmm-hmm, hmm\nBalance ton quoi\nBalance ton quoi\nBalance ton quoi\n\nUn jour, peut-être, ça changera\nY'a plus d'respect dans la rue, tu sais très bien quand t'abuses\nBalance ton quoi\nBalance ton quoi\n\nLaisse-moi te chanter\nD'aller te faire en-, hmm, hmm-hmm, hmm\nOuais, j'passerai pas à la radio\nParce que mes mots sont pas très beaux\nLaisse-moi te chanter\nD'aller te faire en-, hmm, hmm-hmm, hmm\nOuais, j's'rai polie pour la télé\nMais va te faire en-, hmm, hmm-hmm, hmm\nBalance ton quoi\nBalance ton quoi\nBalance ton quoi\n\nMême si tu parles mal des filles\nJe sais qu'au fond t'as compris\nBalance ton quoi\nUn jour peut-être ça changera\nBalance ton quoi\n"
     ]
    }
   ],
   "source": [
    "texte = song.lyrics\n",
    "texte2 = re.sub('\\[.*\\]', '\\n', texte)\n",
    "texte3 = re.sub('\\n\\n+', '\\n\\n', texte2)\n",
    "print(texte3)"
   ]
  },
  {
   "cell_type": "code",
   "execution_count": null,
   "metadata": {},
   "outputs": [],
   "source": []
  }
 ]
}