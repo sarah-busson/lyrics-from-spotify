{
 "metadata": {
  "language_info": {
   "codemirror_mode": {
    "name": "ipython",
    "version": 3
   },
   "file_extension": ".py",
   "mimetype": "text/x-python",
   "name": "python",
   "nbconvert_exporter": "python",
   "pygments_lexer": "ipython3",
   "version": "3.7.6-final"
  },
  "orig_nbformat": 2,
  "kernelspec": {
   "name": "python3",
   "display_name": "Python 3"
  }
 },
 "nbformat": 4,
 "nbformat_minor": 2,
 "cells": [
  {
   "cell_type": "code",
   "execution_count": 6,
   "metadata": {},
   "outputs": [],
   "source": [
    "import json\n",
    "import requests\n",
    "import os\n",
    "import spotipy\n",
    "from spotipy.oauth2 import SpotifyOAuth"
   ]
  },
  {
   "cell_type": "code",
   "execution_count": 15,
   "metadata": {},
   "outputs": [],
   "source": [
    "spotify_client = os.environ.get('SPOTIFY_CLIENT')\n",
    "spotify_secret = os.environ.get('SPOTIFY_SECRET')\n",
    "\n",
    "sp = spotipy.Spotify(auth_manager=SpotifyOAuth(client_id=spotify_client,  \n",
    "                                               client_secret=spotify_secret,\n",
    "                                               redirect_uri='http://localhost:8888/callback/',\n",
    "                                               scope='user-read-currently-playing'))\n"
   ]
  },
  {
   "cell_type": "code",
   "execution_count": null,
   "metadata": {},
   "outputs": [],
   "source": [
    "class GetLyrics:\n",
    "    def __init__(self):\n",
    "        self.spotify_token = os.environ.get('SPOTIFY_TOKEN')\n",
    "\n",
    "# Step 1 : Get the song currently playing on Spotify\n",
    "    # Playlist ID:\n",
    "    songs_to_sing = '7tPSBvTBEh7qJ4X192u9uP'\n",
    "\n",
    "    def get_playing_song(self):\n",
    "        url = 'https://api.spotify.com/v1/me/player/currently-playing'\n",
    "        headers = {'Accept': 'application/json',\n",
    "                   'Content-Type': 'application/json',\n",
    "                   'Authorization': 'Bearer {}'.format(spotify_token)}\n",
    "        response = requests.get(url, headers)\n",
    "        current_song = response.json()"
   ]
  },
  {
   "cell_type": "code",
   "execution_count": 16,
   "metadata": {},
   "outputs": [
    {
     "output_type": "stream",
     "name": "stderr",
     "text": [
      "Couldn't read cache at: .cache\n",
      "{'timestamp': 1604958146730, 'context': {'external_urls': {'spotify': 'https://open.spotify.com/playlist/2hd4estp6il1q391dhVTSA'}, 'href': 'https://api.spotify.com/v1/playlists/2hd4estp6il1q391dhVTSA', 'type': 'playlist', 'uri': 'spotify:user:dxzag7le43qidxq3x1j6ggows:playlist:2hd4estp6il1q391dhVTSA'}, 'progress_ms': 193824, 'item': {'album': {'album_type': 'album', 'artists': [{'external_urls': {'spotify': 'https://open.spotify.com/artist/7CajNmpbOovFoOoasH2HaY'}, 'href': 'https://api.spotify.com/v1/artists/7CajNmpbOovFoOoasH2HaY', 'id': '7CajNmpbOovFoOoasH2HaY', 'name': 'Calvin Harris', 'type': 'artist', 'uri': 'spotify:artist:7CajNmpbOovFoOoasH2HaY'}, {'external_urls': {'spotify': 'https://open.spotify.com/artist/4A0TivfinfALCAMJqqjZIk'}, 'href': 'https://api.spotify.com/v1/artists/4A0TivfinfALCAMJqqjZIk', 'id': '4A0TivfinfALCAMJqqjZIk', 'name': 'Funk Wav', 'type': 'artist', 'uri': 'spotify:artist:4A0TivfinfALCAMJqqjZIk'}], 'external_urls': {'spotify': 'https://open.spotify.com/album/2HaqChIDc5go3qxVunBDK0'}, 'href': 'https://api.spotify.com/v1/albums/2HaqChIDc5go3qxVunBDK0', 'id': '2HaqChIDc5go3qxVunBDK0', 'images': [{'height': 640, 'url': 'https://i.scdn.co/image/ab67616d0000b2734d3fa5ce7ba599f4fd7803ef', 'width': 640}, {'height': 300, 'url': 'https://i.scdn.co/image/ab67616d00001e024d3fa5ce7ba599f4fd7803ef', 'width': 300}, {'height': 64, 'url': 'https://i.scdn.co/image/ab67616d000048514d3fa5ce7ba599f4fd7803ef', 'width': 64}], 'name': 'Funk Wav Bounces Vol.1', 'release_date': '2017-06-30', 'release_date_precision': 'day', 'total_tracks': 10, 'type': 'album', 'uri': 'spotify:album:2HaqChIDc5go3qxVunBDK0'}, 'artists': [{'external_urls': {'spotify': 'https://open.spotify.com/artist/7CajNmpbOovFoOoasH2HaY'}, 'href': 'https://api.spotify.com/v1/artists/7CajNmpbOovFoOoasH2HaY', 'id': '7CajNmpbOovFoOoasH2HaY', 'name': 'Calvin Harris', 'type': 'artist', 'uri': 'spotify:artist:7CajNmpbOovFoOoasH2HaY'}, {'external_urls': {'spotify': 'https://open.spotify.com/artist/1RyvyyTE3xzB2ZywiAwp0i'}, 'href': 'https://api.spotify.com/v1/artists/1RyvyyTE3xzB2ZywiAwp0i', 'id': '1RyvyyTE3xzB2ZywiAwp0i', 'name': 'Future', 'type': 'artist', 'uri': 'spotify:artist:1RyvyyTE3xzB2ZywiAwp0i'}, {'external_urls': {'spotify': 'https://open.spotify.com/artist/6LuN9FCkKOj5PcnpouEgny'}, 'href': 'https://api.spotify.com/v1/artists/6LuN9FCkKOj5PcnpouEgny', 'id': '6LuN9FCkKOj5PcnpouEgny', 'name': 'Khalid', 'type': 'artist', 'uri': 'spotify:artist:6LuN9FCkKOj5PcnpouEgny'}, {'external_urls': {'spotify': 'https://open.spotify.com/artist/4A0TivfinfALCAMJqqjZIk'}, 'href': 'https://api.spotify.com/v1/artists/4A0TivfinfALCAMJqqjZIk', 'id': '4A0TivfinfALCAMJqqjZIk', 'name': 'Funk Wav', 'type': 'artist', 'uri': 'spotify:artist:4A0TivfinfALCAMJqqjZIk'}], 'available_markets': [], 'disc_number': 1, 'duration_ms': 272653, 'explicit': True, 'external_ids': {'isrc': 'GBARL1700769'}, 'external_urls': {'spotify': 'https://open.spotify.com/track/0lMbuWUpfTWhEmOKxppEau'}, 'href': 'https://api.spotify.com/v1/tracks/0lMbuWUpfTWhEmOKxppEau', 'id': '0lMbuWUpfTWhEmOKxppEau', 'is_local': False, 'is_playable': True, 'name': 'Rollin (feat. Future & Khalid)', 'popularity': 62, 'preview_url': 'https://p.scdn.co/mp3-preview/78fad076a030a8b36b61c1013e91c2eee5459f1e?cid=be16f1136dc048d29e19cface3ee0cd4', 'track_number': 4, 'type': 'track', 'uri': 'spotify:track:0lMbuWUpfTWhEmOKxppEau'}, 'currently_playing_type': 'track', 'actions': {'disallows': {'resuming': True}}, 'is_playing': True}\n"
     ]
    }
   ],
   "source": [
    "current_song = sp.currently_playing(market='FR', additional_types='track')\n",
    "\n",
    "print(current_song)"
   ]
  },
  {
   "cell_type": "code",
   "execution_count": 8,
   "metadata": {},
   "outputs": [
    {
     "output_type": "execute_result",
     "data": {
      "text/plain": [
       "{'error': {'status': 401, 'message': 'No token provided'}}"
      ]
     },
     "metadata": {},
     "execution_count": 8
    }
   ],
   "source": [
    "current_song[]"
   ]
  },
  {
   "cell_type": "code",
   "execution_count": 12,
   "metadata": {},
   "outputs": [],
   "source": []
  },
  {
   "cell_type": "code",
   "execution_count": null,
   "metadata": {},
   "outputs": [],
   "source": [
    "export SPOTIPY_CLIENT_ID='your-spotify-client-id'\n",
    "export SPOTIPY_CLIENT_SECRET='your-spotify-client-secret'\n",
    "export SPOTIPY_REDIRECT_URI='your-app-redirect-url'"
   ]
  }
 ]
}