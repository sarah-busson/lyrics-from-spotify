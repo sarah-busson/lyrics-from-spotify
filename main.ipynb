{
 "metadata": {
  "language_info": {
   "codemirror_mode": {
    "name": "ipython",
    "version": 3
   },
   "file_extension": ".py",
   "mimetype": "text/x-python",
   "name": "python",
   "nbconvert_exporter": "python",
   "pygments_lexer": "ipython3",
   "version": "3.7.6-final"
  },
  "orig_nbformat": 2,
  "kernelspec": {
   "name": "python3",
   "display_name": "Python 3"
  }
 },
 "nbformat": 4,
 "nbformat_minor": 2,
 "cells": [
  {
   "cell_type": "code",
   "execution_count": 1,
   "metadata": {},
   "outputs": [],
   "source": [
    "import json\n",
    "import requests\n",
    "import os\n",
    "import spotipy\n",
    "from spotipy.oauth2 import SpotifyOAuth\n",
    "import pandas as pd\n",
    "import re\n"
   ]
  },
  {
   "cell_type": "code",
   "execution_count": 2,
   "metadata": {},
   "outputs": [],
   "source": [
    "spotify_client = os.environ.get('SPOTIFY_CLIENT')\n",
    "spotify_secret = os.environ.get('SPOTIFY_SECRET')\n",
    "\n",
    "sp = spotipy.Spotify(auth_manager=SpotifyOAuth(client_id=spotify_client,  \n",
    "                                               client_secret=spotify_secret,\n",
    "                                               redirect_uri='http://localhost:8888/callback/',\n",
    "                                               scope='user-read-currently-playing'))\n"
   ]
  },
  {
   "cell_type": "code",
   "execution_count": 34,
   "metadata": {},
   "outputs": [
    {
     "output_type": "stream",
     "name": "stdout",
     "text": [
      "{'timestamp': 1605134528567, 'context': {'external_urls': {'spotify': 'https://open.spotify.com/playlist/2hd4estp6il1q391dhVTSA'}, 'href': 'https://api.spotify.com/v1/playlists/2hd4estp6il1q391dhVTSA', 'type': 'playlist', 'uri': 'spotify:user:dxzag7le43qidxq3x1j6ggows:playlist:2hd4estp6il1q391dhVTSA'}, 'progress_ms': 58248, 'item': {'album': {'album_type': 'album', 'artists': [{'external_urls': {'spotify': 'https://open.spotify.com/artist/0NIPkIjTV8mB795yEIiPYL'}, 'href': 'https://api.spotify.com/v1/artists/0NIPkIjTV8mB795yEIiPYL', 'id': '0NIPkIjTV8mB795yEIiPYL', 'name': 'Wallows', 'type': 'artist', 'uri': 'spotify:artist:0NIPkIjTV8mB795yEIiPYL'}], 'external_urls': {'spotify': 'https://open.spotify.com/album/7eed9MBclFPjjjvotfR2e9'}, 'href': 'https://api.spotify.com/v1/albums/7eed9MBclFPjjjvotfR2e9', 'id': '7eed9MBclFPjjjvotfR2e9', 'images': [{'height': 640, 'url': 'https://i.scdn.co/image/ab67616d0000b27384feca0133d9a8e6539a8325', 'width': 640}, {'height': 300, 'url': 'https://i.scdn.co/image/ab67616d00001e0284feca0133d9a8e6539a8325', 'width': 300}, {'height': 64, 'url': 'https://i.scdn.co/image/ab67616d0000485184feca0133d9a8e6539a8325', 'width': 64}], 'name': 'Nothing Happens', 'release_date': '2019-03-22', 'release_date_precision': 'day', 'total_tracks': 11, 'type': 'album', 'uri': 'spotify:album:7eed9MBclFPjjjvotfR2e9'}, 'artists': [{'external_urls': {'spotify': 'https://open.spotify.com/artist/0NIPkIjTV8mB795yEIiPYL'}, 'href': 'https://api.spotify.com/v1/artists/0NIPkIjTV8mB795yEIiPYL', 'id': '0NIPkIjTV8mB795yEIiPYL', 'name': 'Wallows', 'type': 'artist', 'uri': 'spotify:artist:0NIPkIjTV8mB795yEIiPYL'}, {'external_urls': {'spotify': 'https://open.spotify.com/artist/3l0CmX0FuQjFxr8SK7Vqag'}, 'href': 'https://api.spotify.com/v1/artists/3l0CmX0FuQjFxr8SK7Vqag', 'id': '3l0CmX0FuQjFxr8SK7Vqag', 'name': 'Clairo', 'type': 'artist', 'uri': 'spotify:artist:3l0CmX0FuQjFxr8SK7Vqag'}], 'available_markets': [], 'disc_number': 1, 'duration_ms': 178000, 'explicit': False, 'external_ids': {'isrc': 'USAT21812258'}, 'external_urls': {'spotify': 'https://open.spotify.com/track/57RA3JGafJm5zRtKJiKPIm'}, 'href': 'https://api.spotify.com/v1/tracks/57RA3JGafJm5zRtKJiKPIm', 'id': '57RA3JGafJm5zRtKJiKPIm', 'is_local': False, 'is_playable': True, 'name': 'Are You Bored Yet? (feat. Clairo)', 'popularity': 86, 'preview_url': 'https://p.scdn.co/mp3-preview/d09dcc3195e04df650274c22ef7fff041b5d22f5?cid=be16f1136dc048d29e19cface3ee0cd4', 'track_number': 4, 'type': 'track', 'uri': 'spotify:track:57RA3JGafJm5zRtKJiKPIm'}, 'currently_playing_type': 'track', 'actions': {'disallows': {'resuming': True}}, 'is_playing': True}\n"
     ]
    }
   ],
   "source": [
    "current_song = sp.currently_playing(market='FR', additional_types='track')\n",
    "\n",
    "print(current_song)"
   ]
  },
  {
   "cell_type": "code",
   "execution_count": 35,
   "metadata": {},
   "outputs": [
    {
     "output_type": "execute_result",
     "data": {
      "text/plain": [
       "       timestamp  progress_ms currently_playing_type  is_playing  \\\n",
       "0  1605134528567        58248                  track        True   \n",
       "\n",
       "                       context.external_urls.spotify  \\\n",
       "0  https://open.spotify.com/playlist/2hd4estp6il1...   \n",
       "\n",
       "                                        context.href context.type  \\\n",
       "0  https://api.spotify.com/v1/playlists/2hd4estp6...     playlist   \n",
       "\n",
       "                                         context.uri item.album.album_type  \\\n",
       "0  spotify:user:dxzag7le43qidxq3x1j6ggows:playlis...                 album   \n",
       "\n",
       "                                  item.album.artists  ...  \\\n",
       "0  [{'external_urls': {'spotify': 'https://open.s...  ...   \n",
       "\n",
       "                  item.id item.is_local item.is_playable  \\\n",
       "0  57RA3JGafJm5zRtKJiKPIm         False             True   \n",
       "\n",
       "                           item.name item.popularity  \\\n",
       "0  Are You Bored Yet? (feat. Clairo)              86   \n",
       "\n",
       "                                    item.preview_url item.track_number  \\\n",
       "0  https://p.scdn.co/mp3-preview/d09dcc3195e04df6...                 4   \n",
       "\n",
       "   item.type                              item.uri actions.disallows.resuming  \n",
       "0      track  spotify:track:57RA3JGafJm5zRtKJiKPIm                       True  \n",
       "\n",
       "[1 rows x 38 columns]"
      ],
      "text/html": "<div>\n<style scoped>\n    .dataframe tbody tr th:only-of-type {\n        vertical-align: middle;\n    }\n\n    .dataframe tbody tr th {\n        vertical-align: top;\n    }\n\n    .dataframe thead th {\n        text-align: right;\n    }\n</style>\n<table border=\"1\" class=\"dataframe\">\n  <thead>\n    <tr style=\"text-align: right;\">\n      <th></th>\n      <th>timestamp</th>\n      <th>progress_ms</th>\n      <th>currently_playing_type</th>\n      <th>is_playing</th>\n      <th>context.external_urls.spotify</th>\n      <th>context.href</th>\n      <th>context.type</th>\n      <th>context.uri</th>\n      <th>item.album.album_type</th>\n      <th>item.album.artists</th>\n      <th>...</th>\n      <th>item.id</th>\n      <th>item.is_local</th>\n      <th>item.is_playable</th>\n      <th>item.name</th>\n      <th>item.popularity</th>\n      <th>item.preview_url</th>\n      <th>item.track_number</th>\n      <th>item.type</th>\n      <th>item.uri</th>\n      <th>actions.disallows.resuming</th>\n    </tr>\n  </thead>\n  <tbody>\n    <tr>\n      <th>0</th>\n      <td>1605134528567</td>\n      <td>58248</td>\n      <td>track</td>\n      <td>True</td>\n      <td>https://open.spotify.com/playlist/2hd4estp6il1...</td>\n      <td>https://api.spotify.com/v1/playlists/2hd4estp6...</td>\n      <td>playlist</td>\n      <td>spotify:user:dxzag7le43qidxq3x1j6ggows:playlis...</td>\n      <td>album</td>\n      <td>[{'external_urls': {'spotify': 'https://open.s...</td>\n      <td>...</td>\n      <td>57RA3JGafJm5zRtKJiKPIm</td>\n      <td>False</td>\n      <td>True</td>\n      <td>Are You Bored Yet? (feat. Clairo)</td>\n      <td>86</td>\n      <td>https://p.scdn.co/mp3-preview/d09dcc3195e04df6...</td>\n      <td>4</td>\n      <td>track</td>\n      <td>spotify:track:57RA3JGafJm5zRtKJiKPIm</td>\n      <td>True</td>\n    </tr>\n  </tbody>\n</table>\n<p>1 rows × 38 columns</p>\n</div>"
     },
     "metadata": {},
     "execution_count": 35
    }
   ],
   "source": [
    "flat_df = pd.io.json.json_normalize(current_song)\n",
    "flat_df"
   ]
  },
  {
   "cell_type": "code",
   "execution_count": 36,
   "metadata": {},
   "outputs": [
    {
     "output_type": "execute_result",
     "data": {
      "text/plain": [
       "'Are You Bored Yet? (feat. Clairo)'"
      ]
     },
     "metadata": {},
     "execution_count": 36
    }
   ],
   "source": [
    "playlist = re.split(':', flat_df['context.uri'][0])[2]\n",
    "track_name = flat_df['item.name'][0]\n",
    "track_artist = flat_df['item.artists'][0][0]['name']\n",
    "\n",
    "#flat_df.columns\n",
    "track_name\n",
    "#playlist\n",
    "#track_artist"
   ]
  },
  {
   "cell_type": "code",
   "execution_count": 37,
   "metadata": {},
   "outputs": [
    {
     "output_type": "stream",
     "name": "stdout",
     "text": [
      "Searching for \"Are You Bored Yet? (feat. Clairo)\" by Wallows...\n",
      "Done.\n"
     ]
    }
   ],
   "source": [
    "import lyricsgenius\n",
    "\n",
    "genius = lyricsgenius.Genius(os.environ.get('GENIUS_TOKEN'))\n",
    "song = genius.search_song(track_name, track_artist, get_full_info=False)"
   ]
  },
  {
   "cell_type": "code",
   "execution_count": 38,
   "metadata": {},
   "outputs": [
    {
     "output_type": "stream",
     "name": "stdout",
     "text": [
      "[Verse 1: Dylan Minnette with \nClairo\n]\nWhat's wrong?\nYou've been asking but I don't have an answer\nHow come?\nI'm still thinking, let's pretend to fall asleep now\nWhen we get old, will we regret this?\nToo young to think about all that shit\nAnd stalling only goes so far when you've got a head start\n\n[Chorus: Dylan Minnette with \nClairo\n]\n'Cause we could stay at home and \nwatch the sunset\nBut I can't help from asking, \n\"Are you bored yet?\"\nAnd if you're feeling lonely \nyou should tell me\nBefore this ends up as \nanother memory\nWill you tell the truth so I don't have to lie?\nWill you tell the truth so I don't have to lie?\n\n[Verse 2: Clairo]\nFeels like I've known you my whole life\nI can see right through your lies\nI don't know where we're going\nBut I'd like to be by your side\nIf you could tell me how you're feeling\nMaybe we'd get through this undefeated\nHolding on for so long\n\n[Chorus: Dylan Minnette with \nClairo\n]\n'Cause we could stay at home and \nwatch the sunset\nBut I can't help from asking, \n\"Are you bored yet?\"\nAnd if you're feeling lonely \nyou should tell me\nBefore this ends up as \nanother memory\nWill you tell the truth so I don't have to lie?\nWill you tell the truth so I don't have to lie?\n"
     ]
    }
   ],
   "source": [
    "print(song.lyrics)"
   ]
  },
  {
   "cell_type": "code",
   "execution_count": null,
   "metadata": {},
   "outputs": [],
   "source": []
  }
 ]
}